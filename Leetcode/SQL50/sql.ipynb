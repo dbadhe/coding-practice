{
 "cells": [
  {
   "cell_type": "markdown",
   "id": "22666560",
   "metadata": {},
   "source": [
    "## 1757. Recyclable and Low Fat Products\n",
    "\n",
    "\n",
    "Write a solution to find the ids of products that are both low fat and recyclable.\n",
    "Return the result table in any order.\n",
    "The result format is in the following example."
   ]
  },
  {
   "cell_type": "code",
   "execution_count": null,
   "id": "9a519f6d",
   "metadata": {
    "vscode": {
     "languageId": "sql"
    }
   },
   "outputs": [],
   "source": [
    "Select product_id\n",
    "From Products\n",
    "Where low_fats =\"Y\" AND recyclable = \"Y\""
   ]
  }
 ],
 "metadata": {
  "language_info": {
   "name": "python"
  }
 },
 "nbformat": 4,
 "nbformat_minor": 5
}
