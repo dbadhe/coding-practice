{
 "cells": [
  {
   "cell_type": "code",
   "execution_count": null,
   "id": "c1856572",
   "metadata": {},
   "outputs": [
    {
     "data": {
      "text/plain": [
       "['a', 'A', 'A', 'b', 'b', 'b']"
      ]
     },
     "execution_count": 1,
     "metadata": {},
     "output_type": "execute_result"
    }
   ],
   "source": []
  },
  {
   "cell_type": "code",
   "execution_count": null,
   "id": "4418e20a",
   "metadata": {},
   "outputs": [
    {
     "name": "stdout",
     "output_type": "stream",
     "text": [
      "3\n"
     ]
    }
   ],
   "source": [
    "jewels = \"aA\"\n",
    "stones =\"aAAbbb\"\n",
    "\n",
    "li_jewels = list(jewels)\n",
    "li_stones = list(stones)\n",
    "\n",
    "li_jewels\n",
    "li_stones\n",
    "\n",
    "total = 0\n",
    "count = 0\n",
    "for jewel in jewels:\n",
    "    count = stones.count(jewel)\n",
    "    total += count\n",
    "\n",
    "print(total)"
   ]
  },
  {
   "cell_type": "code",
   "execution_count": 10,
   "id": "50f8af0a",
   "metadata": {},
   "outputs": [
    {
     "name": "stdout",
     "output_type": "stream",
     "text": [
      "3\n"
     ]
    }
   ],
   "source": [
    "jewels_set = set(jewels)\n",
    "total1 = 0 \n",
    "for ele in jewels_set:\n",
    "    total1 = stones.count(ele) + total1\n",
    "\n",
    "print(total1)"
   ]
  }
 ],
 "metadata": {
  "kernelspec": {
   "display_name": "venv",
   "language": "python",
   "name": "python3"
  },
  "language_info": {
   "codemirror_mode": {
    "name": "ipython",
    "version": 3
   },
   "file_extension": ".py",
   "mimetype": "text/x-python",
   "name": "python",
   "nbconvert_exporter": "python",
   "pygments_lexer": "ipython3",
   "version": "3.11.4"
  }
 },
 "nbformat": 4,
 "nbformat_minor": 5
}
